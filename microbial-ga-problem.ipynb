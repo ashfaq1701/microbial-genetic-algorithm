{
 "cells": [
  {
   "cell_type": "markdown",
   "source": [
    "## The Problem\n",
    "\n",
    "I have to organize a party for my friends. The problem is that many of my friends do not like each other. Hence I decided to organize the party in two locations. Any of my friends can join either of the parties. But my goal is to minimize the potential conflicts among my friends. A conflict will happen if two of my friends who doesn't like each other joins the same party.\n",
    "\n",
    "<br>\n",
    "<br>\n",
    "\n",
    "## The Genotype\n",
    "\n",
    "My friends joining one party or the other can be expressed in the following way,\n",
    "\n",
    "<br>\n",
    "\n",
    "```\n",
    " Bob  Jim   Robin  Anna\n",
    "[-1,   1,   -1,     1]\n",
    "```\n",
    "\n",
    "<br>\n",
    "\n",
    "1 means they joined party A and -1 means they joined party B.\n",
    "\n",
    "<br>\n",
    "<br>\n",
    "\n",
    "### The weight matrix\n",
    "\n",
    "We can find the relationships among my friends like below,\n",
    "\n",
    "<br>\n",
    "\n",
    "```\n",
    "        Bob    Jim    Robin    Anna\n",
    "\n",
    "Bob      0      1       -1       1\n",
    "\n",
    "Jim      1      0        1      -1\n",
    "\n",
    "Robin   -1     -1        0       1\n",
    "\n",
    "Anna     1      1       -1       1\n",
    "```\n",
    "\n",
    "<br>\n",
    "\n",
    "Any of my friend can't like or dislike themselves. An 1 in the weight matrix means that the corresponding friends like each other. A -1 means they don't.\n",
    "\n",
    "<br>\n",
    "<br>\n",
    "\n",
    "### The Fitness Function\n",
    "\n",
    "We can define the fitness function like below,\n",
    "\n",
    "<br>\n",
    "$$ F = \\sum\\limits_{i=1}^N \\sum\\limits_{j=1}^N W_{ij}G_{i}G_{j} $$\n",
    "<br>\n",
    "\n",
    "We need to write a genetic algorithm to find a combination which minimizes the collision and maximizes the fitness.\n",
    "\n",
    "One goal is to see how the convergence is affected by crossover."
   ],
   "metadata": {
    "collapsed": false
   }
  },
  {
   "cell_type": "code",
   "execution_count": 234,
   "metadata": {
    "collapsed": true,
    "ExecuteTime": {
     "end_time": "2023-11-11T03:29:10.694897Z",
     "start_time": "2023-11-11T03:29:10.693581Z"
    }
   },
   "outputs": [],
   "source": [
    "import numpy as np"
   ]
  },
  {
   "cell_type": "code",
   "execution_count": 224,
   "outputs": [],
   "source": [
    "# Hyperparameters\n",
    "\n",
    "POPULATION_SIZE = 100\n",
    "N_GENES = 50\n",
    "N_GENERATIONS = 10000\n",
    "CROSSOVER_RATE = 0.6\n",
    "MUTATION_RATE = 1 / N_GENES"
   ],
   "metadata": {
    "collapsed": false,
    "ExecuteTime": {
     "end_time": "2023-11-11T03:07:07.193183Z",
     "start_time": "2023-11-11T03:07:07.186283Z"
    }
   }
  },
  {
   "cell_type": "code",
   "execution_count": 225,
   "outputs": [],
   "source": [
    "# Function to generate random weights\n",
    "\n",
    "def get_weights(n):\n",
    "    weights = np.zeros((n, n))\n",
    "\n",
    "    for i in range(n):\n",
    "        for j in range(n):\n",
    "            if i != j:\n",
    "                weights[i][j] = np.random.choice([-1, 1])\n",
    "\n",
    "    return weights"
   ],
   "metadata": {
    "collapsed": false,
    "ExecuteTime": {
     "end_time": "2023-11-11T03:07:07.383786Z",
     "start_time": "2023-11-11T03:07:07.378664Z"
    }
   }
  },
  {
   "cell_type": "code",
   "execution_count": 226,
   "outputs": [],
   "source": [
    "# Generate random population and random weights\n",
    "\n",
    "population = np.random.choice([1, -1], size=(POPULATION_SIZE, N_GENES))\n",
    "w = get_weights(N_GENES)"
   ],
   "metadata": {
    "collapsed": false,
    "ExecuteTime": {
     "end_time": "2023-11-11T03:07:07.590354Z",
     "start_time": "2023-11-11T03:07:07.582448Z"
    }
   }
  },
  {
   "cell_type": "code",
   "execution_count": 227,
   "outputs": [],
   "source": [
    "# Genetic Algorithm Class\n",
    "\n",
    "class MicrobialEvolutionGA:\n",
    "    def __init__(self, population, weights, n_generations, n_genes, crossover_rate, mutation_rate, should_crossover):\n",
    "        # Setup constructor parameters\n",
    "        # Copy the passed population, so we can reuse it\n",
    "        self.population = np.array(population)\n",
    "        self.pop_size = len(population)\n",
    "        self.weights = weights\n",
    "        self.n_generations = n_generations\n",
    "        self.n_genes = n_genes\n",
    "        self.crossover_rate = crossover_rate\n",
    "        self.mutation_rate = mutation_rate\n",
    "        self.should_crossover = should_crossover\n",
    "\n",
    "        # Calculate our population fitness\n",
    "        self.pop_fitness = self.get_population_fitness()\n",
    "\n",
    "        self.wheel = None\n",
    "        self.max_wheel = None\n",
    "\n",
    "        # Init the roulette wheel\n",
    "        self.init_wheel()\n",
    "\n",
    "    # Method to initialize the roulette wheel parameters\n",
    "    def init_wheel(self):\n",
    "        self.wheel = np.cumsum(range(self.pop_size))\n",
    "        self.max_wheel = self.wheel[-1]\n",
    "\n",
    "    # Method to calculate fitness\n",
    "    def get_fitness(self, ind):\n",
    "        return sum(\n",
    "            [sum([self.weights[i][j] * ind[i] * ind[j] for j in range(self.n_genes)]) for i in range(self.n_genes)]\n",
    "        )\n",
    "\n",
    "    # Method to calculate fitness for the whole population\n",
    "    def get_population_fitness(self):\n",
    "        return np.array([self.get_fitness(ind) for ind in self.population])\n",
    "\n",
    "    # Select candidates by roulette wheel selection and return their indices in the population\n",
    "    def select(self, ranked_fitness_indices):\n",
    "        pick_1 = np.random.rand() * self.max_wheel\n",
    "        ind_1 = 0\n",
    "        while pick_1 > self.wheel[ind_1]:\n",
    "            ind_1 += 1\n",
    "\n",
    "        pick_2 = np.random.rand() * self.max_wheel\n",
    "        ind_2 = 0\n",
    "        while pick_2 > self.wheel[ind_2]:\n",
    "            ind_2 += 1\n",
    "\n",
    "        return ranked_fitness_indices[ind_1], ranked_fitness_indices[ind_2]\n",
    "\n",
    "    # Run tournament among two individuals\n",
    "    def tournament(self, idx1, idx2):\n",
    "        fitness_1 = self.get_fitness(self.population[idx1])\n",
    "        fitness_2 = self.get_fitness(self.population[idx2])\n",
    "        return (idx1, idx2) if fitness_1 > fitness_2 else (idx2, idx1)\n",
    "\n",
    "    # Perform crossover between the individuals. Copy winner genes to the loser and return the loser.\n",
    "    def crossover(self, winner, loser):\n",
    "        cross_indices = np.array([np.random.rand() < self.crossover_rate for _ in range(self.n_genes)])\n",
    "        loser[cross_indices] = winner[cross_indices]\n",
    "        return loser\n",
    "\n",
    "    # Mutate an individual at a rate of `mutation_rate`, passed as constructor parameter\n",
    "    def mutate(self, ind):\n",
    "        mutation_indices = np.array([np.random.rand() < self.mutation_rate for _ in range(self.n_genes)])\n",
    "        ind[mutation_indices] = ind[mutation_indices] * -1\n",
    "        return ind\n",
    "\n",
    "    # Run the evolution algorithm\n",
    "    def evolution(self):\n",
    "\n",
    "        # Keep track of the maximum fitness values over generations\n",
    "        max_fitness_over_time = np.zeros(self.n_generations)\n",
    "\n",
    "        # Run generations\n",
    "        for gen in range(self.n_generations):\n",
    "            # Sort the fitness values and get the sorted indices\n",
    "            ranked_fitness_indices = np.argsort(self.pop_fitness)\n",
    "            # Select two individuals according to roulette wheel selection process\n",
    "            idx_1, idx_2 = self.select(ranked_fitness_indices)\n",
    "            # Run tournament among the individuals, compute the winner and the loser indices.\n",
    "            winner_idx, loser_idx = self.tournament(idx_1, idx_2)\n",
    "            # Get the winner and loser individuals\n",
    "            winner, loser = self.population[winner_idx], self.population[loser_idx]\n",
    "\n",
    "            offspring = loser\n",
    "            # Should we do crossover, according to our passed option?\n",
    "            if self.should_crossover:\n",
    "                # Do the crossover, copy winner genes into the loser, to produce offspring\n",
    "                offspring = self.crossover(winner, loser)\n",
    "            # Mutate the offspring in random slots\n",
    "            offspring = self.mutate(offspring)\n",
    "\n",
    "            # Calculate new fitness of the offspring individual\n",
    "            new_fitness = self.get_fitness(offspring)\n",
    "            # Copy the offspring's fitness value in the pop_fitness series.\n",
    "            self.pop_fitness[loser_idx] = new_fitness\n",
    "            # Store the maximum fitness of this generation into the max_fitness_over_time array.\n",
    "            max_fitness_over_time[gen] = np.max(self.pop_fitness)\n",
    "\n",
    "        # Return the maximum fitness values among generations\n",
    "        return max_fitness_over_time\n",
    "\n",
    "    # Get the best solution found so far.\n",
    "    def best_solution_so_far(self):\n",
    "        max_fitness = np.argmax(self.pop_fitness)\n",
    "        return self.population[max_fitness]\n",
    "\n",
    "    # Get the maximum fitness found so far.\n",
    "    def max_fitness_so_far(self):\n",
    "        return np.max(self.pop_fitness)"
   ],
   "metadata": {
    "collapsed": false,
    "ExecuteTime": {
     "end_time": "2023-11-11T03:07:07.753707Z",
     "start_time": "2023-11-11T03:07:07.751309Z"
    }
   }
  },
  {
   "cell_type": "markdown",
   "source": [
    "### Let's run our genetic algorithm with crossover."
   ],
   "metadata": {
    "collapsed": false
   }
  },
  {
   "cell_type": "code",
   "execution_count": 228,
   "outputs": [
    {
     "data": {
      "text/plain": "(362.0,\n array([-1, -1, -1, -1,  1, -1, -1,  1,  1,  1, -1, -1,  1, -1,  1,  1,  1,\n        -1, -1,  1,  1,  1, -1,  1,  1, -1,  1,  1,  1, -1,  1,  1, -1,  1,\n        -1, -1, -1, -1, -1,  1, -1,  1,  1, -1,  1, -1,  1, -1, -1, -1]))"
     },
     "execution_count": 228,
     "metadata": {},
     "output_type": "execute_result"
    }
   ],
   "source": [
    "np.random.seed(42)\n",
    "\n",
    "ga_with_crossover = MicrobialEvolutionGA(population, w, N_GENERATIONS, N_GENES, CROSSOVER_RATE, MUTATION_RATE, True)\n",
    "fitness_over_time_with_crossover = ga_with_crossover.evolution()\n",
    "ga_with_crossover.max_fitness_so_far(), ga_with_crossover.best_solution_so_far()"
   ],
   "metadata": {
    "collapsed": false,
    "ExecuteTime": {
     "end_time": "2023-11-11T03:07:34.411978Z",
     "start_time": "2023-11-11T03:07:08.138465Z"
    }
   }
  },
  {
   "cell_type": "code",
   "execution_count": 229,
   "outputs": [
    {
     "data": {
      "text/plain": "[<matplotlib.lines.Line2D at 0x13fb642b0>]"
     },
     "execution_count": 229,
     "metadata": {},
     "output_type": "execute_result"
    },
    {
     "data": {
      "text/plain": "<Figure size 640x480 with 1 Axes>",
      "image/png": "[encoded data removed]"
     },
     "metadata": {},
     "output_type": "display_data"
    }
   ],
   "source": [
    "import matplotlib.pyplot as plt\n",
    "\n",
    "plt.plot(fitness_over_time_with_crossover)"
   ],
   "metadata": {
    "collapsed": false,
    "ExecuteTime": {
     "end_time": "2023-11-11T03:07:34.468200Z",
     "start_time": "2023-11-11T03:07:34.415322Z"
    }
   }
  },
  {
   "cell_type": "markdown",
   "source": [
    "It is clear from above that the GA with crossover converged immediately after 2000 generations. Then it remained stable in the converged value."
   ],
   "metadata": {
    "collapsed": false
   }
  },
  {
   "cell_type": "markdown",
   "source": [
    "### Now let's run it without crossover."
   ],
   "metadata": {
    "collapsed": false
   }
  },
  {
   "cell_type": "code",
   "execution_count": 230,
   "outputs": [
    {
     "data": {
      "text/plain": "(186.0,\n array([-1, -1,  1,  1,  1, -1, -1,  1, -1,  1,  1, -1,  1, -1, -1,  1, -1,\n        -1,  1, -1,  1,  1, -1,  1, -1, -1,  1, -1, -1, -1,  1,  1,  1, -1,\n         1,  1, -1,  1, -1, -1, -1,  1,  1, -1, -1,  1,  1,  1, -1,  1]))"
     },
     "execution_count": 230,
     "metadata": {},
     "output_type": "execute_result"
    }
   ],
   "source": [
    "np.random.seed(42)\n",
    "\n",
    "ga_without_crossover = MicrobialEvolutionGA(population, w, 40_000, N_GENES, CROSSOVER_RATE, MUTATION_RATE, False)\n",
    "fitness_over_time_without_crossover = ga_without_crossover.evolution()\n",
    "ga_without_crossover.max_fitness_so_far(), ga_without_crossover.best_solution_so_far()"
   ],
   "metadata": {
    "collapsed": false,
    "ExecuteTime": {
     "end_time": "2023-11-11T03:09:19.387673Z",
     "start_time": "2023-11-11T03:07:34.523202Z"
    }
   }
  },
  {
   "cell_type": "code",
   "execution_count": 231,
   "outputs": [
    {
     "data": {
      "text/plain": "[<matplotlib.lines.Line2D at 0x13fb7f5e0>]"
     },
     "execution_count": 231,
     "metadata": {},
     "output_type": "execute_result"
    },
    {
     "data": {
      "text/plain": "<Figure size 640x480 with 1 Axes>",
      "image/png": "[encoded data removed]"
     },
     "metadata": {},
     "output_type": "display_data"
    }
   ],
   "source": [
    "import matplotlib.pyplot as plt\n",
    "\n",
    "plt.plot(fitness_over_time_without_crossover)"
   ],
   "metadata": {
    "collapsed": false,
    "ExecuteTime": {
     "end_time": "2023-11-11T03:09:19.453135Z",
     "start_time": "2023-11-11T03:09:19.388484Z"
    }
   }
  },
  {
   "cell_type": "markdown",
   "source": [
    "On the other hand the GA without crossover didn't converge even after 40000 generations. Also it's not steady. It went down several times, but kept an upward trend in general."
   ],
   "metadata": {
    "collapsed": false
   }
  },
  {
   "cell_type": "code",
   "execution_count": 231,
   "outputs": [],
   "source": [],
   "metadata": {
    "collapsed": false,
    "ExecuteTime": {
     "end_time": "2023-11-11T03:09:19.454595Z",
     "start_time": "2023-11-11T03:09:19.453760Z"
    }
   }
  }
 ],
 "metadata": {
  "kernelspec": {
   "display_name": "Python 3",
   "language": "python",
   "name": "python3"
  },
  "language_info": {
   "codemirror_mode": {
    "name": "ipython",
    "version": 2
   },
   "file_extension": ".py",
   "mimetype": "text/x-python",
   "name": "python",
   "nbconvert_exporter": "python",
   "pygments_lexer": "ipython2",
   "version": "2.7.6"
  }
 },
 "nbformat": 4,
 "nbformat_minor": 0
}
